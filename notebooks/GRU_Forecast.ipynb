{
  "cells": [
    {
      "cell_type": "markdown",
      "metadata": {
        "id": "LMO415z6bUCU"
      },
      "source": [
        "# **Notebook Setup: Import Libraries**"
      ]
    },
    {
      "cell_type": "code",
      "execution_count": null,
      "metadata": {
        "id": "pAmFNXJMsU9J"
      },
      "outputs": [],
      "source": [
        "#Libraries for Data Loading & Pre-processing\n",
        "import math\n",
        "import numpy as np\n",
        "import pandas as pd\n",
        "import matplotlib.pyplot as plt\n",
        "from sklearn.preprocessing import MinMaxScaler\n",
        "\n",
        "#Libraries for developing, training, and running GRU Neural Network\n",
        "import tensorflow as tf\n",
        "\n",
        "#Libraries for Metric Evaluation\n",
        "from sklearn import metrics\n",
        "from sklearn.metrics import mean_absolute_error, mean_absolute_percentage_error\n",
        "from sklearn.metrics import mean_squared_error, mean_squared_log_error\n",
        "\n",
        "#Fallback api to fetch stock data\n",
        "import yfinance"
      ]
    },
    {
      "cell_type": "markdown",
      "metadata": {
        "id": "5bBLbspXr6-O"
      },
      "source": [
        "# **Setup: Parameter Adjustment**"
      ]
    },
    {
      "cell_type": "code",
      "execution_count": null,
      "metadata": {
        "id": "q77-kv54p9Vt"
      },
      "outputs": [],
      "source": [
        "#Variables & Parameters to adjust below\n",
        "\n",
        "#Data Loading\n",
        "stock = \"TSLA\"\n",
        "split = 0.8 #Test data is automatically calculated based on this\n",
        "\n",
        "#Data Pre-processing\n",
        "rw = 1 #Rollng Window or Input Window size\n",
        "\n",
        "#Keras Layers Paramaters\n",
        "#GRU Layer\n",
        "units = 5\n",
        "activation = 'tanh'\n",
        "#Dropout Layer\n",
        "dropout = 0.2\n",
        "\n",
        "#Compiling Parameters\n",
        "loss = \"mean_squared_error\"\n",
        "loss_scale_optimizer = tf.keras.optimizers.SGD(learning_rate=0.01, momentum=0.9, nesterov=False)\n",
        "metrics = [\"mean_squared_error\", \"mean_absolute_error\"]\n",
        "\n",
        "#Model Fitting Parameters\n",
        "epochs = 3\n",
        "batch_size = 1"
      ]
    },
    {
      "cell_type": "markdown",
      "metadata": {
        "id": "wooPogbqETec"
      },
      "source": [
        "# **Step 1: Data Loading**"
      ]
    },
    {
      "cell_type": "code",
      "execution_count": null,
      "metadata": {
        "colab": {
          "base_uri": "https://localhost:8080/"
        },
        "id": "JVgRGSr00cZd",
        "outputId": "36cec7ad-d81d-4f1c-d299-f608020e5329"
      },
      "outputs": [],
      "source": [
        "try:\n",
        "  # Attempt to load data from local directory first\n",
        "  df = pd.read_csv(f'../data/{stock}.csv')\n",
        "  print(f\"Successfully loaded data for {stock} from local directory '../data/'.\")\n",
        "\n",
        "except Exception as e:\n",
        "  print(f\"Failed to load data from local directory: {e}\")\n",
        "  print(f\"Attempting to fetch data for {stock} using yfinance...\")\n",
        "\n",
        "  try:\n",
        "    # Tries to load data from yfinance api since google drive methood failed.\n",
        "    stock_data = yfinance.Ticker(stock)\n",
        "    df = stock_data.history(period=\"max\")\n",
        "\n",
        "    # yfinance uses 'Date' as index, reset to a column for consistency\n",
        "    df = df.reset_index()\n",
        "    df.rename(columns={'Date': 'date', 'Close': 'close', 'Volume': 'volume', 'Open': 'open', 'High': 'high', 'Low': 'low'}, inplace=True)\n",
        "\n",
        "    # Prophet requires 'ds' and 'y' columns\n",
        "    df2 = pd.DataFrame()\n",
        "    df2['ds'] = df['date'].dt.date\n",
        "    df2['y'] = df['close']\n",
        "\n",
        "    df = df2.copy()\n",
        "\n",
        "    if not df.empty:\n",
        "      print(f\"Successfully fetched data for {stock} using yfinance.\")\n",
        "    else:\n",
        "      print(\"ERROR: No data could be loaded for analysis. Please check the ticker symbol matches yfinance\")\n",
        "\n",
        "  except Exception as e:\n",
        "    print(f\"Failed to fetch data for {stock} using yfinance: {e}\")\n",
        "    print(\"Both methods failed. Please ensure the data file is in '/content/drive/MyDrive/psxdata/stocks/'\")\n",
        "    print(f\"or that '{stock}' is a valid ticker symbol on yfinance.\")\n",
        "    df = None # Ensure df is None if both methods fail"
      ]
    },
    {
      "cell_type": "code",
      "execution_count": null,
      "metadata": {
        "colab": {
          "base_uri": "https://localhost:8080/"
        },
        "id": "FZ7kmJmU0aXG",
        "outputId": "bf6fd87d-ce66-4948-f248-e42665a5e8cd"
      },
      "outputs": [
        {
          "name": "stdout",
          "output_type": "stream",
          "text": [
            "              ds           y\n",
            "3769  2025-06-24  340.470001\n",
            "3770  2025-06-25  327.549988\n",
            "3771  2025-06-26  325.779999\n",
            "3772  2025-06-27  323.630005\n",
            "3773  2025-06-30  317.660004\n"
          ]
        }
      ],
      "source": [
        "# Displays the last 5 rows of the loaded dataset, check to make sure it's correct\n",
        "if df is not None:\n",
        "  print(df.tail())\n",
        "else:\n",
        "  print(\"Data could not be loaded using either method.\")"
      ]
    },
    {
      "cell_type": "markdown",
      "metadata": {
        "id": "hWjyPGng37Di"
      },
      "source": [
        "# **Step 2: Data Pre-Processing**"
      ]
    },
    {
      "cell_type": "code",
      "execution_count": null,
      "metadata": {
        "colab": {
          "base_uri": "https://localhost:8080/"
        },
        "id": "0Nh7d5OI0APj",
        "outputId": "d75c5826-7fe0-45d4-8574-85a2e1048106"
      },
      "outputs": [
        {
          "name": "stdout",
          "output_type": "stream",
          "text": [
            "Training Data Split Size: 3020\n",
            "Training data:\n",
            "         Date     Close\n",
            "0  2010-06-29  1.592667\n",
            "1  2010-06-30  1.588667\n",
            "2  2010-07-01  1.464000\n",
            "3  2010-07-02  1.280000\n",
            "4  2010-07-06  1.074000\n",
            "Training Data Shape (3020, 2)\n",
            "Testing data:\n",
            "            Date       Close\n",
            "3020  2022-06-28  232.663330\n",
            "3021  2022-06-29  228.490005\n",
            "3022  2022-06-30  224.473328\n",
            "3023  2022-07-01  227.263336\n",
            "3024  2022-07-05  233.066666\n",
            "Testing Data Shape (754, 2)\n"
          ]
        }
      ],
      "source": [
        "# Extract the date and closing price columns\n",
        "dates = df['ds']\n",
        "closing_prices = df['y']\n",
        "\n",
        "# Calculate the number of data points for training and testing\n",
        "number_of_data_points = len(df)\n",
        "train_data_size = math.ceil(number_of_data_points * split)\n",
        "print(\"Training Data Split Size:\", train_data_size)\n",
        "\n",
        "# Split the data into training and testing sets\n",
        "train_data = pd.DataFrame(data={'Date': dates[:train_data_size], 'Close': closing_prices[:train_data_size]})\n",
        "test_data = pd.DataFrame(data={'Date': dates[train_data_size:], 'Close': closing_prices[train_data_size:]})\n",
        "\n",
        "# Print the first few rows of the training and testing data\n",
        "print('Training data:')\n",
        "print(train_data.head())\n",
        "print(\"Training Data Shape\", train_data.shape)\n",
        "\n",
        "print('Testing data:')\n",
        "print(test_data.head())\n",
        "print(\"Testing Data Shape\", test_data.shape)"
      ]
    },
    {
      "cell_type": "code",
      "execution_count": null,
      "metadata": {
        "colab": {
          "base_uri": "https://localhost:8080/"
        },
        "id": "f5htUOuW1A37",
        "outputId": "608a2094-9ee6-4404-89b2-4dd0545cbaa4"
      },
      "outputs": [
        {
          "name": "stdout",
          "output_type": "stream",
          "text": [
            "OG Dataset_train 1 Dimensional: (3020,)\n",
            "New Dataset_train 2 Dimensional: (3020, 1)\n",
            "OG Dataset_test 1 Dimensional: (754,)\n",
            "New Dataset_test 2 Dimensional: (754, 1)\n"
          ]
        }
      ],
      "source": [
        "# Selecting Open Price values for Training Data\n",
        "dataset_train = train_data.Close.values\n",
        "print(\"OG Dataset_train 1 Dimensional:\", dataset_train.shape)\n",
        "\n",
        "# Reshaping 1D to 2D array for Training Data\n",
        "dataset_train = np.reshape(dataset_train, (-1,1))\n",
        "print(\"New Dataset_train 2 Dimensional:\", dataset_train.shape)\n",
        "\n",
        "\n",
        "# Selecting Open Price values for Testing Data\n",
        "dataset_test = test_data.Close.values\n",
        "print(\"OG Dataset_test 1 Dimensional:\", dataset_test.shape)\n",
        "\n",
        "# Reshaping 1D to 2D array for Testing Data\n",
        "dataset_test = np.reshape(dataset_test, (-1,1))\n",
        "print(\"New Dataset_test 2 Dimensional:\", dataset_test.shape)"
      ]
    },
    {
      "cell_type": "code",
      "execution_count": null,
      "metadata": {
        "colab": {
          "base_uri": "https://localhost:8080/"
        },
        "id": "_Co5Cqp02LpP",
        "outputId": "1a2a3540-7ad1-4ae1-8496-158f13fb3647"
      },
      "outputs": [
        {
          "name": "stdout",
          "output_type": "stream",
          "text": [
            "Training Dataset Normalized\n",
            "[[1.31893362e-03]\n",
            " [1.30915180e-03]\n",
            " [1.00428027e-03]\n",
            " [5.54310805e-04]\n",
            " [5.05407544e-05]]\n",
            "Normalized Training Dataset Shape: (3020, 1)\n",
            "Testing Dataset Normalized\n",
            "[[0.33506385]\n",
            " [0.32383799]\n",
            " [0.3130335 ]\n",
            " [0.32053836]\n",
            " [0.33614878]]\n",
            "Normalized Testing Dataset Shape: (754, 1)\n"
          ]
        }
      ],
      "source": [
        "scaler = MinMaxScaler(feature_range=(0,1))\n",
        "# scaling both datasets, Normalizing values between 0 and 1\n",
        "scaled_train = scaler.fit_transform(dataset_train)\n",
        "scaled_test = scaler.fit_transform(dataset_test)\n",
        "\n",
        "print(\"Training Dataset Normalized\")\n",
        "print(scaled_train[:5])\n",
        "print(\"Normalized Training Dataset Shape:\", scaled_train.shape)\n",
        "\n",
        "print(\"Testing Dataset Normalized\")\n",
        "print(scaled_test[:5])\n",
        "print(\"Normalized Testing Dataset Shape:\", scaled_test.shape)"
      ]
    },
    {
      "cell_type": "code",
      "execution_count": null,
      "metadata": {
        "colab": {
          "base_uri": "https://localhost:8080/"
        },
        "id": "To5N_D2u2kOO",
        "outputId": "e72f53ac-5b42-438c-c108-29cd35374a19"
      },
      "outputs": [
        {
          "name": "stdout",
          "output_type": "stream",
          "text": [
            "Training set, 1 Input Window Size to predict 1 Output Value\n",
            "[array([0.00131893])]\n",
            "[np.float64(0.0013091517972054325)]\n",
            "\n",
            "Testing set, 1 Input Window Size to predict 1 Output Value\n",
            "[array([0.33506385])]\n",
            "[np.float64(0.323837990285738)]\n",
            "\n"
          ]
        }
      ],
      "source": [
        "#For training set\n",
        "X_train = []\n",
        "y_train = []\n",
        "\n",
        "for i in range(rw, len(scaled_train)):\n",
        "    X_train.append(scaled_train[i-rw:i, 0])\n",
        "    y_train.append(scaled_train[i, 0])\n",
        "    if i <= rw:\n",
        "        print(\"Training set,\", rw, \"Input Window Size to predict 1 Output Value\")\n",
        "        print(X_train)\n",
        "        print(y_train)\n",
        "        print()\n",
        "\n",
        "#For testing set\n",
        "X_test = []\n",
        "y_test = []\n",
        "for i in range(rw, len(scaled_test)):\n",
        "    X_test.append(scaled_test[i-rw:i, 0])\n",
        "    y_test.append(scaled_test[i, 0])\n",
        "    if i <= rw:\n",
        "        print(\"Testing set,\", rw, \"Input Window Size to predict 1 Output Value\")\n",
        "        print(X_test)\n",
        "        print(y_test)\n",
        "        print()"
      ]
    },
    {
      "cell_type": "code",
      "execution_count": null,
      "metadata": {
        "colab": {
          "base_uri": "https://localhost:8080/"
        },
        "id": "WzwMUe7Z2_CN",
        "outputId": "ff72f897-3a36-41d4-908f-62b881293885"
      },
      "outputs": [
        {
          "name": "stdout",
          "output_type": "stream",
          "text": [
            "X_train: (3019, 1, 1)\n",
            "y_train: (3019, 1)\n",
            "X_test: (753, 1, 1)\n",
            "y_test: (753, 1)\n"
          ]
        }
      ],
      "source": [
        "# The data is converted to Numpy array\n",
        "\n",
        "#For training set\n",
        "X_train = np.array(X_train)\n",
        "y_train = np.array(y_train)\n",
        "\n",
        "#Reshaping\n",
        "X_train = np.reshape(X_train, (X_train.shape[0], X_train.shape[1],1))\n",
        "y_train = np.reshape(y_train, (y_train.shape[0],1))\n",
        "print(\"X_train:\" , X_train.shape )\n",
        "print(\"y_train:\" , y_train.shape)\n",
        "\n",
        "\n",
        "#For testing set\n",
        "X_test = np.array(X_test)\n",
        "y_test = np.array(y_test)\n",
        "\n",
        "#Reshaping\n",
        "X_test = np.reshape(X_test, (X_test.shape[0], X_test.shape[1],1))\n",
        "y_test = np.reshape(y_test, (y_test.shape[0],1))\n",
        "print(\"X_test:\", X_test.shape)\n",
        "print(\"y_test:\", y_test.shape)"
      ]
    },
    {
      "cell_type": "markdown",
      "metadata": {
        "id": "RNjzf_8h4AFM"
      },
      "source": [
        "# **Step 4: Building the Model**"
      ]
    },
    {
      "cell_type": "code",
      "execution_count": null,
      "metadata": {
        "colab": {
          "base_uri": "https://localhost:8080/",
          "height": 426
        },
        "id": "ndfXjAEt48XC",
        "outputId": "49d81f78-c2d1-410c-a0ed-bb83ff3b2bc1"
      },
      "outputs": [
        {
          "name": "stderr",
          "output_type": "stream",
          "text": [
            "/usr/local/lib/python3.11/dist-packages/keras/src/layers/rnn/rnn.py:200: UserWarning: Do not pass an `input_shape`/`input_dim` argument to a layer. When using Sequential models, prefer using an `Input(shape)` object as the first layer in the model instead.\n",
            "  super().__init__(**kwargs)\n"
          ]
        },
        {
          "name": "stdout",
          "output_type": "stream",
          "text": [
            "Epoch 1/3\n",
            "\u001b[1m3019/3019\u001b[0m \u001b[32m━━━━━━━━━━━━━━━━━━━━\u001b[0m\u001b[37m\u001b[0m \u001b[1m11s\u001b[0m 3ms/step - loss: 0.0097\n",
            "Epoch 2/3\n",
            "\u001b[1m3019/3019\u001b[0m \u001b[32m━━━━━━━━━━━━━━━━━━━━\u001b[0m\u001b[37m\u001b[0m \u001b[1m18s\u001b[0m 3ms/step - loss: 0.0044\n",
            "Epoch 3/3\n",
            "\u001b[1m3019/3019\u001b[0m \u001b[32m━━━━━━━━━━━━━━━━━━━━\u001b[0m\u001b[37m\u001b[0m \u001b[1m9s\u001b[0m 3ms/step - loss: 0.0031\n"
          ]
        },
        {
          "data": {
            "text/html": [
              "<pre style=\"white-space:pre;overflow-x:auto;line-height:normal;font-family:Menlo,'DejaVu Sans Mono',consolas,'Courier New',monospace\"><span style=\"font-weight: bold\">Model: \"sequential\"</span>\n",
              "</pre>\n"
            ],
            "text/plain": [
              "\u001b[1mModel: \"sequential\"\u001b[0m\n"
            ]
          },
          "metadata": {},
          "output_type": "display_data"
        },
        {
          "data": {
            "text/html": [
              "<pre style=\"white-space:pre;overflow-x:auto;line-height:normal;font-family:Menlo,'DejaVu Sans Mono',consolas,'Courier New',monospace\">┏━━━━━━━━━━━━━━━━━━━━━━━━━━━━━━━━━┳━━━━━━━━━━━━━━━━━━━━━━━━┳━━━━━━━━━━━━━━━┓\n",
              "┃<span style=\"font-weight: bold\"> Layer (type)                    </span>┃<span style=\"font-weight: bold\"> Output Shape           </span>┃<span style=\"font-weight: bold\">       Param # </span>┃\n",
              "┡━━━━━━━━━━━━━━━━━━━━━━━━━━━━━━━━━╇━━━━━━━━━━━━━━━━━━━━━━━━╇━━━━━━━━━━━━━━━┩\n",
              "│ gru (<span style=\"color: #0087ff; text-decoration-color: #0087ff\">GRU</span>)                       │ (<span style=\"color: #00d7ff; text-decoration-color: #00d7ff\">None</span>, <span style=\"color: #00af00; text-decoration-color: #00af00\">5</span>)              │           <span style=\"color: #00af00; text-decoration-color: #00af00\">120</span> │\n",
              "├─────────────────────────────────┼────────────────────────┼───────────────┤\n",
              "│ dropout (<span style=\"color: #0087ff; text-decoration-color: #0087ff\">Dropout</span>)               │ (<span style=\"color: #00d7ff; text-decoration-color: #00d7ff\">None</span>, <span style=\"color: #00af00; text-decoration-color: #00af00\">5</span>)              │             <span style=\"color: #00af00; text-decoration-color: #00af00\">0</span> │\n",
              "├─────────────────────────────────┼────────────────────────┼───────────────┤\n",
              "│ dense (<span style=\"color: #0087ff; text-decoration-color: #0087ff\">Dense</span>)                   │ (<span style=\"color: #00d7ff; text-decoration-color: #00d7ff\">None</span>, <span style=\"color: #00af00; text-decoration-color: #00af00\">1</span>)              │             <span style=\"color: #00af00; text-decoration-color: #00af00\">6</span> │\n",
              "└─────────────────────────────────┴────────────────────────┴───────────────┘\n",
              "</pre>\n"
            ],
            "text/plain": [
              "┏━━━━━━━━━━━━━━━━━━━━━━━━━━━━━━━━━┳━━━━━━━━━━━━━━━━━━━━━━━━┳━━━━━━━━━━━━━━━┓\n",
              "┃\u001b[1m \u001b[0m\u001b[1mLayer (type)                   \u001b[0m\u001b[1m \u001b[0m┃\u001b[1m \u001b[0m\u001b[1mOutput Shape          \u001b[0m\u001b[1m \u001b[0m┃\u001b[1m \u001b[0m\u001b[1m      Param #\u001b[0m\u001b[1m \u001b[0m┃\n",
              "┡━━━━━━━━━━━━━━━━━━━━━━━━━━━━━━━━━╇━━━━━━━━━━━━━━━━━━━━━━━━╇━━━━━━━━━━━━━━━┩\n",
              "│ gru (\u001b[38;5;33mGRU\u001b[0m)                       │ (\u001b[38;5;45mNone\u001b[0m, \u001b[38;5;34m5\u001b[0m)              │           \u001b[38;5;34m120\u001b[0m │\n",
              "├─────────────────────────────────┼────────────────────────┼───────────────┤\n",
              "│ dropout (\u001b[38;5;33mDropout\u001b[0m)               │ (\u001b[38;5;45mNone\u001b[0m, \u001b[38;5;34m5\u001b[0m)              │             \u001b[38;5;34m0\u001b[0m │\n",
              "├─────────────────────────────────┼────────────────────────┼───────────────┤\n",
              "│ dense (\u001b[38;5;33mDense\u001b[0m)                   │ (\u001b[38;5;45mNone\u001b[0m, \u001b[38;5;34m1\u001b[0m)              │             \u001b[38;5;34m6\u001b[0m │\n",
              "└─────────────────────────────────┴────────────────────────┴───────────────┘\n"
            ]
          },
          "metadata": {},
          "output_type": "display_data"
        },
        {
          "data": {
            "text/html": [
              "<pre style=\"white-space:pre;overflow-x:auto;line-height:normal;font-family:Menlo,'DejaVu Sans Mono',consolas,'Courier New',monospace\"><span style=\"font-weight: bold\"> Total params: </span><span style=\"color: #00af00; text-decoration-color: #00af00\">254</span> (1020.00 B)\n",
              "</pre>\n"
            ],
            "text/plain": [
              "\u001b[1m Total params: \u001b[0m\u001b[38;5;34m254\u001b[0m (1020.00 B)\n"
            ]
          },
          "metadata": {},
          "output_type": "display_data"
        },
        {
          "data": {
            "text/html": [
              "<pre style=\"white-space:pre;overflow-x:auto;line-height:normal;font-family:Menlo,'DejaVu Sans Mono',consolas,'Courier New',monospace\"><span style=\"font-weight: bold\"> Trainable params: </span><span style=\"color: #00af00; text-decoration-color: #00af00\">126</span> (504.00 B)\n",
              "</pre>\n"
            ],
            "text/plain": [
              "\u001b[1m Trainable params: \u001b[0m\u001b[38;5;34m126\u001b[0m (504.00 B)\n"
            ]
          },
          "metadata": {},
          "output_type": "display_data"
        },
        {
          "data": {
            "text/html": [
              "<pre style=\"white-space:pre;overflow-x:auto;line-height:normal;font-family:Menlo,'DejaVu Sans Mono',consolas,'Courier New',monospace\"><span style=\"font-weight: bold\"> Non-trainable params: </span><span style=\"color: #00af00; text-decoration-color: #00af00\">0</span> (0.00 B)\n",
              "</pre>\n"
            ],
            "text/plain": [
              "\u001b[1m Non-trainable params: \u001b[0m\u001b[38;5;34m0\u001b[0m (0.00 B)\n"
            ]
          },
          "metadata": {},
          "output_type": "display_data"
        },
        {
          "data": {
            "text/html": [
              "<pre style=\"white-space:pre;overflow-x:auto;line-height:normal;font-family:Menlo,'DejaVu Sans Mono',consolas,'Courier New',monospace\"><span style=\"font-weight: bold\"> Optimizer params: </span><span style=\"color: #00af00; text-decoration-color: #00af00\">128</span> (516.00 B)\n",
              "</pre>\n"
            ],
            "text/plain": [
              "\u001b[1m Optimizer params: \u001b[0m\u001b[38;5;34m128\u001b[0m (516.00 B)\n"
            ]
          },
          "metadata": {},
          "output_type": "display_data"
        }
      ],
      "source": [
        "#Initialising the GRU model\n",
        "model = tf.keras.models.Sequential([\n",
        "  tf.keras.layers.GRU(units, input_shape=(X_train.shape[1], 1), activation=activation),\n",
        "  tf.keras.layers.Dropout(dropout),\n",
        "  tf.keras.layers.Dense(1, activation='relu')\n",
        "])\n",
        "\n",
        "# Compiling GRU\n",
        "model.compile(loss = loss, optimizer = loss_scale_optimizer)\n",
        "\n",
        "# Fitting the data\n",
        "model.fit(X_train, y_train, epochs=epochs, batch_size=batch_size)\n",
        "model.summary()"
      ]
    },
    {
      "cell_type": "markdown",
      "metadata": {
        "id": "ghbxeyDUdQO4"
      },
      "source": [
        "# **Step 5: Make Forecast**"
      ]
    },
    {
      "cell_type": "code",
      "execution_count": null,
      "metadata": {
        "colab": {
          "base_uri": "https://localhost:8080/"
        },
        "id": "nUvEqtnp4QTK",
        "outputId": "1ac25c05-239a-46de-d328-ec0325b454e2"
      },
      "outputs": [
        {
          "name": "stdout",
          "output_type": "stream",
          "text": [
            "\u001b[1m24/24\u001b[0m \u001b[32m━━━━━━━━━━━━━━━━━━━━\u001b[0m\u001b[37m\u001b[0m \u001b[1m0s\u001b[0m 5ms/step\n"
          ]
        }
      ],
      "source": [
        "# predictions with X_test data\n",
        "y_GRU = model.predict(X_test)"
      ]
    },
    {
      "cell_type": "code",
      "execution_count": null,
      "metadata": {
        "id": "6kLUWtDBA9Ju"
      },
      "outputs": [],
      "source": [
        "# scaling back from 0-1 to original, Un-Normalize the values\n",
        "y_GRU_O = scaler.inverse_transform(y_GRU)\n",
        "y_test_O = scaler.inverse_transform(y_test)"
      ]
    },
    {
      "cell_type": "code",
      "execution_count": null,
      "metadata": {
        "colab": {
          "base_uri": "https://localhost:8080/"
        },
        "id": "f1Jt88JEUBj7",
        "outputId": "d36b7de8-a481-40ce-a6ad-737f7276842e"
      },
      "outputs": [
        {
          "name": "stdout",
          "output_type": "stream",
          "text": [
            "Test Data Shape: (754, 2)\n",
            "Predicted Data Shape: (753, 1)\n",
            "y_test Data Shape: (753, 1)\n"
          ]
        }
      ],
      "source": [
        "#Verifying data shapes\n",
        "print(\"Test Data Shape:\", test_data.shape)\n",
        "print(\"Predicted Data Shape:\", y_GRU_O.shape)\n",
        "print(\"y_test Data Shape:\", y_test_O.shape)"
      ]
    },
    {
      "cell_type": "markdown",
      "metadata": {
        "id": "Yk9wx8dlBHs-"
      },
      "source": [
        "# **Step 6: Visualizing Graphs**"
      ]
    },
    {
      "cell_type": "code",
      "execution_count": null,
      "metadata": {
        "colab": {
          "base_uri": "https://localhost:8080/",
          "height": 508
        },
        "id": "R83IXGhjCLqS",
        "outputId": "04be9c85-5e67-4089-c75c-178009e4e439"
      },
      "outputs": [
        {
          "data": {
            "image/png": "[encoded data removed]",
            "text/plain": [
              "<Figure size 640x480 with 1 Axes>"
            ]
          },
          "metadata": {},
          "output_type": "display_data"
        }
      ],
      "source": [
        "plt.style.use('fivethirtyeight')\n",
        "fig, ax = plt.subplots() #figsize=(18, 12)\n",
        "\n",
        "# Plot for GRU predictions\n",
        "ax.plot(train_data.index, train_data.Close, label=\"Training Data\")\n",
        "ax.plot(test_data.index, test_data.Close, label=\"Testing Data\")\n",
        "ax.plot(test_data.index[rw:], y_GRU_O, label=\"GRU Forecast\")\n",
        "ax.legend()\n",
        "ax.title.set_text(\"GRU\")\n",
        "\n",
        "plt.xlabel(\"Days\")\n",
        "plt.ylabel(\"Share Price\")\n",
        "\n",
        "plt.show()"
      ]
    },
    {
      "cell_type": "markdown",
      "metadata": {
        "id": "QJgo8L4kd57_"
      },
      "source": [
        "# **Step 7: Evaluate Model Accuracy**"
      ]
    },
    {
      "cell_type": "code",
      "execution_count": null,
      "metadata": {
        "colab": {
          "base_uri": "https://localhost:8080/"
        },
        "id": "9D5h1tvsFLqx",
        "outputId": "084710e8-62ab-4387-be43-addbad7e8751"
      },
      "outputs": [
        {
          "name": "stdout",
          "output_type": "stream",
          "text": [
            "Mean Absolute Error (MAE): 13.249980870787683\n",
            "Mean Absolute Percentage Error (MAPE): 5.712834298266725\n",
            "Mean Squared Error (MSE): 246.30311149745842\n",
            "Mean Squared Log Error (MSLE): 0.00483897960293683\n",
            "Root Mean Squared Error (RMSE): 0.06956277454886939\n"
          ]
        }
      ],
      "source": [
        "# calculate mean squared error\n",
        "mse = mean_squared_error(y_test_O, y_GRU_O)\n",
        "print('Mean Squared Error (MSE):', mse)\n",
        "\n",
        "# calculate mean absolute error\n",
        "mae = mean_absolute_error(y_test_O, y_GRU_O)\n",
        "print('Mean Absolute Error (MAE):', mae)\n",
        "\n",
        "# calculate root mean squared error\n",
        "rmse = math.sqrt(mse)\n",
        "print('Root Mean Squared Error (RMSE):', rmse)\n",
        "\n",
        "# calculate mean absolute percentage error\n",
        "mae = mean_absolute_percentage_error(y_test_O, y_GRU_O)\n",
        "print('Mean Absolute Percentage Error (MAPE):', mae*100)"
      ]
    }
  ],
  "metadata": {
    "accelerator": "GPU",
    "colab": {
      "collapsed_sections": [
        "LMO415z6bUCU",
        "5bBLbspXr6-O",
        "RNjzf_8h4AFM",
        "Yk9wx8dlBHs-"
      ],
      "gpuType": "T4",
      "provenance": []
    },
    "kernelspec": {
      "display_name": "Python 3",
      "name": "python3"
    },
    "language_info": {
      "name": "python"
    }
  },
  "nbformat": 4,
  "nbformat_minor": 0
}
