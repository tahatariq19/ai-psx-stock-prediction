{
  "cells": [
    {
      "cell_type": "markdown",
      "metadata": {
        "id": "6FiWbYd2Z1yA"
      },
      "source": [
        "# **Notebook Setup: Import Libraries**"
      ]
    },
    {
      "cell_type": "code",
      "execution_count": null,
      "metadata": {
        "id": "oo4X4U3LkQmv"
      },
      "outputs": [],
      "source": [
        "# Importing the required libraries\n",
        "import math\n",
        "import pandas as pd\n",
        "import numpy as np\n",
        "import matplotlib.pyplot as plt\n",
        "from prophet import Prophet\n",
        "from sklearn.metrics import mean_squared_error, mean_absolute_error\n",
        "\n",
        "#Fallback api to fetch stock data\n",
        "import yfinance"
      ]
    },
    {
      "cell_type": "markdown",
      "metadata": {
        "id": "1lNWXkXQeFeu"
      },
      "source": [
        "# **Setup: Parameter Adjustment**"
      ]
    },
    {
      "cell_type": "code",
      "execution_count": null,
      "metadata": {
        "id": "71b3FoBUeJ3i"
      },
      "outputs": [],
      "source": [
        "#Variables & Parameters to adjust below\n",
        "\n",
        "#Data Loading\n",
        "stock = \"MEBL.KA\"\n",
        "split = 0.8 #Test data is automatically calculated based on this, 0.8 here means 80% Train & 20% test.\n",
        "\n",
        "#Holidays Setup\n",
        "country = \"PAK\" #Uses the built-in holidays list by country code, good enough for baseline.\n",
        "use_custom_holidays = True #Sets to use the custom defined holidays, make sure to change them according to your needs."
      ]
    },
    {
      "cell_type": "markdown",
      "metadata": {
        "id": "Q3VyIkUX5cd2"
      },
      "source": [
        "# **Step 1: Data Loading**"
      ]
    },
    {
      "cell_type": "code",
      "execution_count": null,
      "metadata": {
        "colab": {
          "base_uri": "https://localhost:8080/"
        },
        "id": "mWkOaf9cjXt-",
        "outputId": "8ed0f44d-65ed-46c8-c47d-c96336e411c0"
      },
      "outputs": [],
      "source": [
        "try:\n",
        "  # Attempt to load data from local directory first\n",
        "  # Note: Prophet expects 2 columns: 'ds' (date) and 'y' (value to forecast)\n",
        "  # If the data is not in this format, it will need to be transformed. \n",
        "  df = pd.read_csv(f'../data/{stock}.csv')\n",
        "  print(f\"Successfully loaded data for {stock} from local directory '../data/'.\")\n",
        "\n",
        "except Exception as e:\n",
        "  print(f\"Failed to load data from local directory: {e}\")\n",
        "  print(f\"Attempting to fetch data for {stock} using yfinance...\")\n",
        "\n",
        "  try:\n",
        "    # Tries to load data from yfinance api since Local methood failed.\n",
        "    stock_data = yfinance.Ticker(stock)\n",
        "    df = stock_data.history(period=\"max\")\n",
        "\n",
        "    # yfinance uses 'Date' as index, reset to a column for consistency\n",
        "    df = df.reset_index()\n",
        "    df.rename(columns={'Date': 'date', 'Close': 'close', 'Volume': 'volume', 'Open': 'open', 'High': 'high', 'Low': 'low'}, inplace=True)\n",
        "\n",
        "    # Prophet requires 'ds' and 'y' columns\n",
        "    df2 = pd.DataFrame()\n",
        "    df2['ds'] = df['date'].dt.date\n",
        "    df2['y'] = df['close']\n",
        "    df = df2.copy()\n",
        "\n",
        "    if not df.empty:\n",
        "      print(f\"Successfully fetched data for {stock} using yfinance.\")\n",
        "    else:\n",
        "      print(\"ERROR: No data could be loaded for analysis. Please check the ticker symbol matches yfinance\")\n",
        "\n",
        "  except Exception as e:\n",
        "    print(f\"Failed to fetch data for {stock} using yfinance: {e}\")\n",
        "    print(\"Both methods failed. Please ensure the data file is in '../data/'\")\n",
        "    print(f\"or that '{stock}' is a valid ticker symbol on yfinance.\")\n",
        "    df = None # Ensure df is None if both methods fail"
      ]
    },
    {
      "cell_type": "code",
      "execution_count": null,
      "metadata": {
        "colab": {
          "base_uri": "https://localhost:8080/"
        },
        "id": "2NIFmsVUtf1D",
        "outputId": "1e075301-5ffa-4e4e-bd87-dad26c7a9c2f"
      },
      "outputs": [],
      "source": [
        "# Displays the first 5 rows of the loaded dataset, check to make sure it's correct\n",
        "if df is not None:\n",
        "  print(df.tail())\n",
        "else:\n",
        "  print(\"Data could not be loaded using either method.\")"
      ]
    },
    {
      "cell_type": "markdown",
      "metadata": {
        "id": "zL0XswmZaPUS"
      },
      "source": [
        "# **Step 2: Data Pre-Processing**"
      ]
    },
    {
      "cell_type": "code",
      "execution_count": null,
      "metadata": {
        "id": "bo1jEA-elGpG"
      },
      "outputs": [],
      "source": [
        "# Extract the date and closing price columns\n",
        "ds = df['ds']\n",
        "y = df['y']\n",
        "\n",
        "# Calculate the number of data points for training and testing\n",
        "number_of_data_points = len(df)\n",
        "train_data_size = math.ceil(number_of_data_points * split)\n",
        "\n",
        "# Split the data into training and testing sets\n",
        "df_train = pd.DataFrame(data={'ds': ds[:train_data_size], 'y': y[:train_data_size]})\n",
        "df_test = pd.DataFrame(data={'ds': ds[train_data_size:], 'y': y[train_data_size:]})"
      ]
    },
    {
      "cell_type": "markdown",
      "metadata": {
        "id": "Lwrxh-i3aTQG"
      },
      "source": [
        "# **Step 3: Adding holidays to feed to the model, gives better predictions**"
      ]
    },
    {
      "cell_type": "code",
      "execution_count": null,
      "metadata": {
        "id": "vHr3RUGZwIjo"
      },
      "outputs": [],
      "source": [
        "#Custom Holidays\n",
        "New_Years_Eve = pd.DataFrame({\n",
        "    'holiday': 'New Years Eve',\n",
        "    'ds': pd.to_datetime(['2013-12-31', '2014-12-31','2015-12-31','2016-12-31','2017-12-31','2018-12-31','2019-12-31','2020-12-31','2021-12-31', '2022-12-31',]),\n",
        "    'lower_window': 0,\n",
        "    'upper_window': 1,\n",
        "})\n",
        "\n",
        "Bank_Holiday = pd.DataFrame({\n",
        "    'holiday': 'Bank Holiday',\n",
        "    'ds': pd.to_datetime(['2013-07-01', '2014-07-01','2015-07-01','2016-07-01','2017-07-01','2018-07-01','2019-07-01','2020-07-01','2021-07-01', '2022-07-01',]),\n",
        "    'lower_window': 0,\n",
        "    'upper_window': 0,\n",
        "})\n",
        "\n",
        "Defence_Day = pd.DataFrame({\n",
        "    'holiday': 'Defence Day',\n",
        "    'ds': pd.to_datetime(['2013-09-01', '2014-09-01','2015-09-01','2016-09-01','2017-09-01','2018-09-01','2019-09-01','2020-09-01','2021-09-01', '2022-09-01',]),\n",
        "    'lower_window': 0,\n",
        "    'upper_window': 0,\n",
        "})\n",
        "\n",
        "# Combines all the holiday DataFrames into a single DataFrame if\n",
        "# user_custom_holidays is True\n",
        "if use_custom_holidays == True:\n",
        "  holidays = pd.concat((New_Years_Eve, Bank_Holiday, Defence_Day))\n",
        "else:\n",
        "  holidays = None"
      ]
    },
    {
      "cell_type": "markdown",
      "metadata": {
        "id": "b6BtHZsBahnV"
      },
      "source": [
        "# **Step 4: Initialize model and fit training data**"
      ]
    },
    {
      "cell_type": "code",
      "execution_count": null,
      "metadata": {
        "colab": {
          "base_uri": "https://localhost:8080/"
        },
        "id": "8qMW1i7gmCA9",
        "outputId": "81c1ccb8-d30b-4619-c562-b803a91863bf"
      },
      "outputs": [],
      "source": [
        "# Instantiate prophet\n",
        "m = Prophet(holidays=holidays)\n",
        "m.add_country_holidays(country_name=country)\n",
        "\n",
        "# fit the training data\n",
        "m.fit(df_train)"
      ]
    },
    {
      "cell_type": "code",
      "execution_count": null,
      "metadata": {
        "colab": {
          "base_uri": "https://localhost:8080/"
        },
        "id": "-Ic9CrnKgGt3",
        "outputId": "6d2fd0e1-6c2f-4daf-c315-1b508e085e33"
      },
      "outputs": [],
      "source": [
        "#Use this to check which holidays were included in the forecast\n",
        "m.train_holiday_names"
      ]
    },
    {
      "cell_type": "markdown",
      "metadata": {
        "id": "qq17q0IvapLt"
      },
      "source": [
        "# **Step 5: Make forecast**"
      ]
    },
    {
      "cell_type": "code",
      "execution_count": null,
      "metadata": {
        "colab": {
          "base_uri": "https://localhost:8080/"
        },
        "id": "NeJ2rD_5m7yx",
        "outputId": "86cbdb7c-5bcc-46d7-b241-4a34d21b1bc2"
      },
      "outputs": [],
      "source": [
        "#Makes the forecast on the test data\n",
        "forecast = m.predict(df_test)\n",
        "\n",
        "# Outputs the last 5 values of the forecasted data, filtered for the specific columns.\n",
        "forecast[['ds', 'yhat', 'yhat_lower', 'yhat_upper']].tail()"
      ]
    },
    {
      "cell_type": "markdown",
      "metadata": {
        "id": "0BHFu4iJaukP"
      },
      "source": [
        "# **Step 6: Visualizing Graphs**"
      ]
    },
    {
      "cell_type": "code",
      "execution_count": null,
      "metadata": {
        "colab": {
          "base_uri": "https://localhost:8080/"
        },
        "id": "AxDrfCHNm9uk",
        "outputId": "d6da16bf-63d2-47af-9ed2-2343b9e96266"
      },
      "outputs": [],
      "source": [
        "#fig1 gives the standard plot chart, black like is the test data, the blue line with the spread is the forecasted data.\n",
        "fig1 = m.plot(forecast)\n",
        "\n",
        "#fig2 gives additional visual representations of things like trend or when holidays appeared.\n",
        "fig2 = m.plot_components(forecast)"
      ]
    },
    {
      "cell_type": "markdown",
      "metadata": {
        "id": "XiX93Niya2Tl"
      },
      "source": [
        "# **Step 7: Evaluate model accuray**"
      ]
    },
    {
      "cell_type": "code",
      "execution_count": null,
      "metadata": {
        "colab": {
          "base_uri": "https://localhost:8080/"
        },
        "id": "CAE7xJzfnKGK",
        "outputId": "79a3169f-0aa4-4a43-cd7b-62d241043f4d"
      },
      "outputs": [],
      "source": [
        "# Evaluation metrics to measure model accuracy, uses MSE, MAE, and RMSE.\n",
        "print(\"Mean Squared Error (MSE):\", mean_squared_error(y_true = df_test[\"y\"], y_pred = forecast['yhat']))\n",
        "print(\"Mean Absolute Error (MAE):\", mean_absolute_error(y_true = df_test[\"y\"], y_pred = forecast['yhat']))\n",
        "print(\"Root Mean Squared Error (RMSE):\", np.sqrt(mean_squared_error(y_true = df_test[\"y\"], y_pred = forecast['yhat'])))"
      ]
    }
  ],
  "metadata": {
    "colab": {
      "collapsed_sections": [
        "Lwrxh-i3aTQG",
        "b6BtHZsBahnV",
        "qq17q0IvapLt",
        "0BHFu4iJaukP",
        "XiX93Niya2Tl"
      ],
      "provenance": []
    },
    "kernelspec": {
      "display_name": "Python 3",
      "name": "python3"
    },
    "language_info": {
      "name": "python"
    }
  },
  "nbformat": 4,
  "nbformat_minor": 0
}
